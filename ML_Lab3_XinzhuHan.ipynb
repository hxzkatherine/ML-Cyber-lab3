{
  "nbformat": 4,
  "nbformat_minor": 0,
  "metadata": {
    "colab": {
      "name": "ML_Lab3_XinzhuHan.ipynb",
      "provenance": [],
      "collapsed_sections": []
    },
    "kernelspec": {
      "name": "python3",
      "display_name": "Python 3"
    },
    "language_info": {
      "name": "python"
    }
  },
  "cells": [
    {
      "cell_type": "markdown",
      "metadata": {
        "id": "NIpL0Bp6LIG6"
      },
      "source": [
        "## Collect Model and Data"
      ]
    },
    {
      "cell_type": "code",
      "metadata": {
        "id": "XOX5aES3NqVW"
      },
      "source": [
        "clean_val_data_name = \"/content/clean_validation_data.h5\"\n",
        "clean_test_data_name = \"/content/clean_test_data.h5\"\n",
        "sunglass_data_name = \"/content/sunglasses_poisoned_data.h5\"\n",
        "model_name = \"/content/CSAW-HackML-2020/lab3/models/bd_net.h5\""
      ],
      "execution_count": 1,
      "outputs": []
    },
    {
      "cell_type": "code",
      "metadata": {
        "colab": {
          "base_uri": "https://localhost:8080/",
          "height": 0
        },
        "id": "7wO3ixf71a7a",
        "outputId": "ad3bbe31-df47-4e88-f75c-72c09f3d48f3"
      },
      "source": [
        "!git clone https://github.com/csaw-hackml/CSAW-HackML-2020"
      ],
      "execution_count": 2,
      "outputs": [
        {
          "output_type": "stream",
          "name": "stdout",
          "text": [
            "fatal: destination path 'CSAW-HackML-2020' already exists and is not an empty directory.\n"
          ]
        }
      ]
    },
    {
      "cell_type": "code",
      "metadata": {
        "colab": {
          "base_uri": "https://localhost:8080/",
          "height": 0
        },
        "id": "c19y1qNG9ne2",
        "outputId": "54f149ff-3b37-453b-8815-973af6090edc"
      },
      "source": [
        "!gdown --id 19OKCkY2CjV3ASkOe6nMSYTsOVcxAoCnA\n",
        "!gdown --id 1P8PTL62x3cfpV9mrC0unqZjRFhlTTOSG\n",
        "!gdown --id 1XtYnM-IopU-QYVc99U51EiDvI5zxK0nV\n",
        "!gdown --id 1DRKofqVdn2ioh44M45eYZHl_XAW9r3v4\n",
        "!gdown --id 1nbB5tyUVClSaFvvg3hrFW4wOUj3GtNTf\n",
        "!gdown --id 1HpahIi-RcvtaRoly_TbuoBzWUaAjVDgt"
      ],
      "execution_count": 3,
      "outputs": [
        {
          "output_type": "stream",
          "name": "stdout",
          "text": [
            "Downloading...\n",
            "From: https://drive.google.com/uc?id=19OKCkY2CjV3ASkOe6nMSYTsOVcxAoCnA\n",
            "To: /content/clean_validation_data.h5\n",
            "100% 716M/716M [00:05<00:00, 142MB/s]\n",
            "Downloading...\n",
            "From: https://drive.google.com/uc?id=1P8PTL62x3cfpV9mrC0unqZjRFhlTTOSG\n",
            "To: /content/sunglasses_poisoned_data.h5\n",
            "100% 398M/398M [00:03<00:00, 105MB/s] \n",
            "Downloading...\n",
            "From: https://drive.google.com/uc?id=1XtYnM-IopU-QYVc99U51EiDvI5zxK0nV\n",
            "To: /content/clean_test_data.h5\n",
            "100% 398M/398M [00:06<00:00, 62.4MB/s]\n",
            "Downloading...\n",
            "From: https://drive.google.com/uc?id=1DRKofqVdn2ioh44M45eYZHl_XAW9r3v4\n",
            "To: /content/bd_valid.h5\n",
            "100% 716M/716M [00:13<00:00, 51.8MB/s]\n",
            "Downloading...\n",
            "From: https://drive.google.com/uc?id=1nbB5tyUVClSaFvvg3hrFW4wOUj3GtNTf\n",
            "To: /content/valid.h5\n",
            "100% 716M/716M [00:09<00:00, 71.7MB/s]\n",
            "Downloading...\n",
            "From: https://drive.google.com/uc?id=1HpahIi-RcvtaRoly_TbuoBzWUaAjVDgt\n",
            "To: /content/test.h5\n",
            "100% 398M/398M [00:04<00:00, 98.5MB/s]\n"
          ]
        }
      ]
    },
    {
      "cell_type": "code",
      "metadata": {
        "colab": {
          "base_uri": "https://localhost:8080/",
          "height": 0
        },
        "id": "1jJ-I5301o94",
        "outputId": "f1d885be-6ada-4cd5-f35d-64ef577699cb"
      },
      "source": [
        "!python3 CSAW-HackML-2020/eval.py /content/sunglasses_poisoned_data.h5 /content/CSAW-HackML-2020/lab3/models/bd_net.h5"
      ],
      "execution_count": 4,
      "outputs": [
        {
          "output_type": "stream",
          "name": "stdout",
          "text": [
            "2021-12-14 04:05:20.529434: E tensorflow/stream_executor/cuda/cuda_driver.cc:271] failed call to cuInit: CUDA_ERROR_NO_DEVICE: no CUDA-capable device is detected\n",
            "2021-12-14 04:05:30.235256: W tensorflow/core/framework/cpu_allocator_impl.cc:82] Allocation of 65843560 exceeds 10% of free system memory.\n",
            "Classification accuracy: 0.0\n"
          ]
        }
      ]
    },
    {
      "cell_type": "markdown",
      "metadata": {
        "id": "SNaRm2WpN_Hv"
      },
      "source": [
        "### Load Data"
      ]
    },
    {
      "cell_type": "code",
      "source": [
        "import keras\n",
        "import sys\n",
        "import h5py\n",
        "import numpy as np\n",
        "from sklearn.metrics import accuracy_score"
      ],
      "metadata": {
        "id": "BLMs733lQg61"
      },
      "execution_count": 5,
      "outputs": []
    },
    {
      "cell_type": "code",
      "metadata": {
        "id": "BMJ7tZ4ANaCl"
      },
      "source": [
        "def data_loader(filepath):\n",
        "    data = h5py.File(filepath, 'r')\n",
        "    x_data = np.array(data['data'])\n",
        "    y_data = np.array(data['label'])\n",
        "    x_data = x_data.transpose((0,2,3,1))\n",
        "\n",
        "    return x_data, y_data\n",
        "cl_x_val, cl_y_val = data_loader(clean_val_data_name)\n",
        "cl_x_test, cl_y_test = data_loader(clean_test_data_name)\n",
        "sun_x, sun_y = data_loader(sunglass_data_name)\n",
        "N = int(cl_y_val.max())"
      ],
      "execution_count": 6,
      "outputs": []
    },
    {
      "cell_type": "markdown",
      "metadata": {
        "id": "g_2nEGqtOPcm"
      },
      "source": [
        "### Load Model"
      ]
    },
    {
      "cell_type": "code",
      "metadata": {
        "colab": {
          "base_uri": "https://localhost:8080/",
          "height": 0
        },
        "id": "AxFG1z2Q1t85",
        "outputId": "9ed78261-30be-426d-a2c4-ee4232d5663a"
      },
      "source": [
        "bd_model = keras.models.load_model(model_name)\n",
        "cl_label_p = np.argmax(bd_model.predict(cl_x_val), axis=1)\n",
        "ori_acc = accuracy_score(cl_y_val, cl_label_p)\n",
        "ori_acc"
      ],
      "execution_count": 7,
      "outputs": [
        {
          "output_type": "execute_result",
          "data": {
            "text/plain": [
              "0.9864899974019226"
            ]
          },
          "metadata": {},
          "execution_count": 7
        }
      ]
    },
    {
      "cell_type": "code",
      "metadata": {
        "colab": {
          "base_uri": "https://localhost:8080/",
          "height": 0
        },
        "id": "DzsKxmJ38loN",
        "outputId": "165a3f8c-f6bc-42a9-c366-9f3e57dee732"
      },
      "source": [
        "bd_model.summary()"
      ],
      "execution_count": 8,
      "outputs": [
        {
          "output_type": "stream",
          "name": "stdout",
          "text": [
            "Model: \"model_1\"\n",
            "__________________________________________________________________________________________________\n",
            " Layer (type)                   Output Shape         Param #     Connected to                     \n",
            "==================================================================================================\n",
            " input (InputLayer)             [(None, 55, 47, 3)]  0           []                               \n",
            "                                                                                                  \n",
            " conv_1 (Conv2D)                (None, 52, 44, 20)   980         ['input[0][0]']                  \n",
            "                                                                                                  \n",
            " pool_1 (MaxPooling2D)          (None, 26, 22, 20)   0           ['conv_1[0][0]']                 \n",
            "                                                                                                  \n",
            " conv_2 (Conv2D)                (None, 24, 20, 40)   7240        ['pool_1[0][0]']                 \n",
            "                                                                                                  \n",
            " pool_2 (MaxPooling2D)          (None, 12, 10, 40)   0           ['conv_2[0][0]']                 \n",
            "                                                                                                  \n",
            " conv_3 (Conv2D)                (None, 10, 8, 60)    21660       ['pool_2[0][0]']                 \n",
            "                                                                                                  \n",
            " pool_3 (MaxPooling2D)          (None, 5, 4, 60)     0           ['conv_3[0][0]']                 \n",
            "                                                                                                  \n",
            " conv_4 (Conv2D)                (None, 4, 3, 80)     19280       ['pool_3[0][0]']                 \n",
            "                                                                                                  \n",
            " flatten_1 (Flatten)            (None, 1200)         0           ['pool_3[0][0]']                 \n",
            "                                                                                                  \n",
            " flatten_2 (Flatten)            (None, 960)          0           ['conv_4[0][0]']                 \n",
            "                                                                                                  \n",
            " fc_1 (Dense)                   (None, 160)          192160      ['flatten_1[0][0]']              \n",
            "                                                                                                  \n",
            " fc_2 (Dense)                   (None, 160)          153760      ['flatten_2[0][0]']              \n",
            "                                                                                                  \n",
            " add_1 (Add)                    (None, 160)          0           ['fc_1[0][0]',                   \n",
            "                                                                  'fc_2[0][0]']                   \n",
            "                                                                                                  \n",
            " activation_1 (Activation)      (None, 160)          0           ['add_1[0][0]']                  \n",
            "                                                                                                  \n",
            " output (Dense)                 (None, 1283)         206563      ['activation_1[0][0]']           \n",
            "                                                                                                  \n",
            "==================================================================================================\n",
            "Total params: 601,643\n",
            "Trainable params: 601,643\n",
            "Non-trainable params: 0\n",
            "__________________________________________________________________________________________________\n"
          ]
        }
      ]
    },
    {
      "cell_type": "markdown",
      "metadata": {
        "id": "fkFC479xO0Q6"
      },
      "source": [
        "## Repair Model"
      ]
    },
    {
      "cell_type": "code",
      "source": [
        "inter_layer_name = 'conv_3'\n",
        "gd_model = keras.models.clone_model(bd_model)\n",
        "gd_model.set_weights(bd_model.get_weights())\n",
        "modify_layer = gd_model.get_layer(inter_layer_name)\n",
        "intermediate_layer_model = keras.Model(inputs=gd_model.input, outputs=gd_model.get_layer(inter_layer_name).output)\n",
        "intermediate_output = intermediate_layer_model.predict(cl_x_val).sum(axis=(0,1,2))\n",
        "idx_sort = np.argsort(intermediate_output)\n",
        "n = len(idx_sort)\n",
        "pruned_channel = []\n",
        "accuracy = []\n",
        "attack_sucess_rates = []"
      ],
      "metadata": {
        "id": "MOY8WCmU0rKf"
      },
      "execution_count": 9,
      "outputs": []
    },
    {
      "cell_type": "markdown",
      "source": [
        "* x = 2 "
      ],
      "metadata": {
        "id": "EPn1QgxOz5Hx"
      }
    },
    {
      "cell_type": "code",
      "source": [
        "x = 2\n",
        "acc_2 = -1\n",
        "\n",
        "i_2 = 1\n",
        "for delIdx in idx_sort:\n",
        "  if intermediate_output[delIdx] < 1e-5:\n",
        "    continue\n",
        "  newPar = np.array(modify_layer.get_weights()[0])\n",
        "  newPar[:, :, :, delIdx] = np.zeros((3, 3, 40))\n",
        "  modify_layer.set_weights(list([newPar, modify_layer.get_weights()[1]]))\n",
        "\n",
        "  cl_label_p = np.argmax(gd_model.predict(cl_x_val), axis=1)\n",
        "  acc = accuracy_score(cl_y_val, cl_label_p)\n",
        "  i_2 += 1\n",
        "  acc_2 = acc\n",
        "  print(acc)\n",
        "  if (ori_acc - acc) > x / 100.0:\n",
        "    break\n",
        "\n",
        "pruned_channel.append(i_2 / n)\n",
        "accuracy.append(acc_2)"
      ],
      "metadata": {
        "colab": {
          "base_uri": "https://localhost:8080/",
          "height": 0
        },
        "id": "gL7Xs-qV0mp2",
        "outputId": "2ea6e750-79e1-4c3c-e282-8e0c48bd1534"
      },
      "execution_count": 10,
      "outputs": [
        {
          "output_type": "stream",
          "name": "stdout",
          "text": [
            "0.9864899974019226\n",
            "0.9865765999826794\n",
            "0.9864899974019226\n",
            "0.9863167922404088\n",
            "0.9863167922404088\n",
            "0.9864899974019226\n",
            "0.9865765999826794\n",
            "0.9860569844981381\n",
            "0.9856239715943536\n",
            "0.9825928812678618\n",
            "0.9822464709448342\n",
            "0.9765307006148783\n",
            "0.97592448254958\n",
            "0.9579111457521434\n"
          ]
        }
      ]
    },
    {
      "cell_type": "code",
      "metadata": {
        "colab": {
          "base_uri": "https://localhost:8080/",
          "height": 0
        },
        "id": "pQ5KKGgJhfKa",
        "outputId": "f0a4cbc6-de35-45fc-e2ee-58f34ec37767"
      },
      "source": [
        "pred_G = np.argmax(gd_model.predict(sun_x), axis=1)\n",
        "rate_2 = accuracy_score(pred_G, sun_y)\n",
        "print(rate_2)\n",
        "attack_sucess_rates.append(rate_2)"
      ],
      "execution_count": 11,
      "outputs": [
        {
          "output_type": "stream",
          "name": "stdout",
          "text": [
            "1.0\n"
          ]
        }
      ]
    },
    {
      "cell_type": "code",
      "source": [
        "pred_B = np.argmax(bd_model.predict(sun_x), axis=1)\n",
        "accuracy_score(pred_B, sun_y)"
      ],
      "metadata": {
        "colab": {
          "base_uri": "https://localhost:8080/",
          "height": 0
        },
        "id": "u-Cn8FdoAl4v",
        "outputId": "01400c92-ed4d-4a87-b526-3bb93a588530"
      },
      "execution_count": 12,
      "outputs": [
        {
          "output_type": "execute_result",
          "data": {
            "text/plain": [
              "1.0"
            ]
          },
          "metadata": {},
          "execution_count": 12
        }
      ]
    },
    {
      "cell_type": "markdown",
      "source": [
        "* x = 4"
      ],
      "metadata": {
        "id": "oqbJ32hg0m8s"
      }
    },
    {
      "cell_type": "code",
      "metadata": {
        "colab": {
          "base_uri": "https://localhost:8080/",
          "height": 0
        },
        "id": "NjbvsRW_O_nU",
        "outputId": "b3c37951-dca1-4d75-dded-5c20c665df00"
      },
      "source": [
        "gd_model = keras.models.clone_model(bd_model)\n",
        "gd_model.set_weights(bd_model.get_weights())\n",
        "modify_layer = gd_model.get_layer(inter_layer_name)\n",
        "intermediate_layer_model = keras.Model(inputs=gd_model.input, outputs=gd_model.get_layer(inter_layer_name).output)\n",
        "intermediate_output = intermediate_layer_model.predict(cl_x_val).sum(axis=(0,1,2))\n",
        "idx_sort = np.argsort(intermediate_output)\n",
        "\n",
        "x = 4\n",
        "acc_4 = -1\n",
        "i_4 = 1\n",
        "\n",
        "for delIdx in idx_sort:\n",
        "  if intermediate_output[delIdx] < 1e-5:\n",
        "    continue\n",
        "  newPar = np.array(modify_layer.get_weights()[0])\n",
        "  newPar[:, :, :, delIdx] = np.zeros((3, 3, 40))\n",
        "  modify_layer.set_weights(list([newPar, modify_layer.get_weights()[1]]))\n",
        "\n",
        "  cl_label_p = np.argmax(gd_model.predict(cl_x_val), axis=1)\n",
        "  acc = accuracy_score(cl_y_val, cl_label_p)\n",
        "  i_4 += 1\n",
        "  acc_4 = acc\n",
        "  print(acc)\n",
        "  if (ori_acc - acc) > x / 100.0:\n",
        "    break\n",
        "\n",
        "pruned_channel.append(i_4 / n)\n",
        "accuracy.append(acc_4)"
      ],
      "execution_count": 13,
      "outputs": [
        {
          "output_type": "stream",
          "name": "stdout",
          "text": [
            "0.9864899974019226\n",
            "0.9865765999826794\n",
            "0.9864899974019226\n",
            "0.9863167922404088\n",
            "0.9863167922404088\n",
            "0.9864899974019226\n",
            "0.9865765999826794\n",
            "0.9860569844981381\n",
            "0.9856239715943536\n",
            "0.9825928812678618\n",
            "0.9822464709448342\n",
            "0.9765307006148783\n",
            "0.97592448254958\n",
            "0.9579111457521434\n",
            "0.9530614012297567\n",
            "0.9486446696111545\n",
            "0.9448341560578505\n"
          ]
        }
      ]
    },
    {
      "cell_type": "code",
      "source": [
        "pred_G = np.argmax(gd_model.predict(sun_x), axis=1)\n",
        "rate_4 = accuracy_score(pred_G, sun_y)\n",
        "print(rate_4)\n",
        "attack_sucess_rates.append(rate_4)"
      ],
      "metadata": {
        "id": "vpHhb4PP-iJR",
        "colab": {
          "base_uri": "https://localhost:8080/",
          "height": 0
        },
        "outputId": "8e3c553b-d677-4bf6-f0b7-1d36b847fffb"
      },
      "execution_count": 14,
      "outputs": [
        {
          "output_type": "stream",
          "name": "stdout",
          "text": [
            "0.9999220576773188\n"
          ]
        }
      ]
    },
    {
      "cell_type": "code",
      "source": [
        "pred_B = np.argmax(bd_model.predict(sun_x), axis=1)\n",
        "accuracy_score(pred_B, sun_y)"
      ],
      "metadata": {
        "colab": {
          "base_uri": "https://localhost:8080/",
          "height": 0
        },
        "id": "ruySljCQEkiN",
        "outputId": "97b1589e-4d27-48e0-e7fe-3313a2b3fe8b"
      },
      "execution_count": 15,
      "outputs": [
        {
          "output_type": "execute_result",
          "data": {
            "text/plain": [
              "1.0"
            ]
          },
          "metadata": {},
          "execution_count": 15
        }
      ]
    },
    {
      "cell_type": "markdown",
      "source": [
        "* x = 10"
      ],
      "metadata": {
        "id": "QLhtiUcc8gaw"
      }
    },
    {
      "cell_type": "code",
      "source": [
        "gd_model = keras.models.clone_model(bd_model)\n",
        "gd_model.set_weights(bd_model.get_weights())\n",
        "modify_layer = gd_model.get_layer(inter_layer_name)\n",
        "intermediate_layer_model = keras.Model(inputs=gd_model.input, outputs=gd_model.get_layer(inter_layer_name).output)\n",
        "intermediate_output = intermediate_layer_model.predict(cl_x_val).sum(axis=(0,1,2))\n",
        "idx_sort = np.argsort(intermediate_output)\n",
        "\n",
        "x = 10\n",
        "acc_10 = -1\n",
        "i_10 = 1\n",
        "\n",
        "for delIdx in idx_sort:\n",
        "  if intermediate_output[delIdx] < 1e-5:\n",
        "    continue\n",
        "  newPar = np.array(modify_layer.get_weights()[0])\n",
        "  newPar[:, :, :, delIdx] = np.zeros((3, 3, 40))\n",
        "  modify_layer.set_weights(list([newPar, modify_layer.get_weights()[1]]))\n",
        "\n",
        "  cl_label_p = np.argmax(gd_model.predict(cl_x_val), axis=1)\n",
        "  acc = accuracy_score(cl_y_val, cl_label_p)\n",
        "  i_10 += 1\n",
        "  acc_10 = acc\n",
        "  print(acc)\n",
        "  if (ori_acc - acc) > x / 100.0:\n",
        "    break\n",
        "\n",
        "pruned_channel.append(i_10 / n)\n",
        "accuracy.append(acc_10)"
      ],
      "metadata": {
        "id": "fQ7A6eus7mZp",
        "colab": {
          "base_uri": "https://localhost:8080/",
          "height": 0
        },
        "outputId": "be24b033-7ed2-4ab6-a957-fc8e87864aab"
      },
      "execution_count": 16,
      "outputs": [
        {
          "output_type": "stream",
          "name": "stdout",
          "text": [
            "0.9864899974019226\n",
            "0.9865765999826794\n",
            "0.9864899974019226\n",
            "0.9863167922404088\n",
            "0.9863167922404088\n",
            "0.9864899974019226\n",
            "0.9865765999826794\n",
            "0.9860569844981381\n",
            "0.9856239715943536\n",
            "0.9825928812678618\n",
            "0.9822464709448342\n",
            "0.9765307006148783\n",
            "0.97592448254958\n",
            "0.9579111457521434\n",
            "0.9530614012297567\n",
            "0.9486446696111545\n",
            "0.9448341560578505\n",
            "0.939724603793193\n",
            "0.9229237031263532\n",
            "0.894344851476574\n",
            "0.8462804191564909\n"
          ]
        }
      ]
    },
    {
      "cell_type": "code",
      "source": [
        "pred_G = np.argmax(gd_model.predict(sun_x), axis=1)\n",
        "rate_10 = accuracy_score(pred_G, sun_y)\n",
        "print(rate_10)\n",
        "attack_sucess_rates.append(rate_10)"
      ],
      "metadata": {
        "id": "nKdF0ysf-pqw",
        "colab": {
          "base_uri": "https://localhost:8080/",
          "height": 0
        },
        "outputId": "27203a65-b4bb-47fc-f3ed-a20ea05d3b8d"
      },
      "execution_count": 17,
      "outputs": [
        {
          "output_type": "stream",
          "name": "stdout",
          "text": [
            "0.7954014029618083\n"
          ]
        }
      ]
    },
    {
      "cell_type": "code",
      "source": [
        "pred_B = np.argmax(bd_model.predict(sun_x), axis=1)\n",
        "accuracy_score(pred_B, sun_y)"
      ],
      "metadata": {
        "colab": {
          "base_uri": "https://localhost:8080/",
          "height": 0
        },
        "id": "1vyZbISVEnIT",
        "outputId": "50568fe6-c2ac-4ad2-d7da-5b918b5f1c49"
      },
      "execution_count": 18,
      "outputs": [
        {
          "output_type": "execute_result",
          "data": {
            "text/plain": [
              "1.0"
            ]
          },
          "metadata": {},
          "execution_count": 18
        }
      ]
    },
    {
      "cell_type": "markdown",
      "source": [
        "* x = 30"
      ],
      "metadata": {
        "id": "MYZ3eqLL8i_e"
      }
    },
    {
      "cell_type": "code",
      "source": [
        "gd_model = keras.models.clone_model(bd_model)\n",
        "gd_model.set_weights(bd_model.get_weights())\n",
        "modify_layer = gd_model.get_layer(inter_layer_name)\n",
        "intermediate_layer_model = keras.Model(inputs=gd_model.input, outputs=gd_model.get_layer(inter_layer_name).output)\n",
        "intermediate_output = intermediate_layer_model.predict(cl_x_val).sum(axis=(0,1,2))\n",
        "idx_sort = np.argsort(intermediate_output)\n",
        "\n",
        "x = 30\n",
        "for delIdx in idx_sort:\n",
        "  if intermediate_output[delIdx] < 1e-5:\n",
        "    continue\n",
        "  newPar = np.array(modify_layer.get_weights()[0])\n",
        "  newPar[:, :, :, delIdx] = np.zeros((3, 3, 40))\n",
        "  modify_layer.set_weights(list([newPar, modify_layer.get_weights()[1]]))\n",
        "\n",
        "  cl_label_p = np.argmax(gd_model.predict(cl_x_val), axis=1)\n",
        "  acc = accuracy_score(cl_y_val, cl_label_p)\n",
        "  print(acc)\n",
        "  if (ori_acc - acc) > x / 100.0:\n",
        "    break\n",
        "pred_G = np.argmax(gd_model.predict(sun_x), axis=1)\n",
        "rate = accuracy_score(pred_G, sun_y)"
      ],
      "metadata": {
        "id": "VWtu6-b-8liq"
      },
      "execution_count": null,
      "outputs": []
    },
    {
      "cell_type": "code",
      "source": [
        "print(\"Attack success rate for X=30% is: \", rate)"
      ],
      "metadata": {
        "colab": {
          "base_uri": "https://localhost:8080/",
          "height": 0
        },
        "id": "wQAaIArrK3bA",
        "outputId": "e1a0c15e-96d0-41d8-efaa-b5874d7985a7"
      },
      "execution_count": 22,
      "outputs": [
        {
          "output_type": "stream",
          "name": "stdout",
          "text": [
            "Attack success rate for X=30% is:  0.14053000779423228\n"
          ]
        }
      ]
    },
    {
      "cell_type": "markdown",
      "source": [
        "### Graph\n"
      ],
      "metadata": {
        "id": "-SNjrFx35Mdb"
      }
    },
    {
      "cell_type": "markdown",
      "source": [
        " The accuracy on clean test data: "
      ],
      "metadata": {
        "id": "XFzBvMcX5XBT"
      }
    },
    {
      "cell_type": "code",
      "source": [
        "import matplotlib.pyplot as plt\n",
        "plt.plot(pruned_channel, accuracy)\n",
        "plt.show()"
      ],
      "metadata": {
        "id": "QETRxAdK5WeT",
        "colab": {
          "base_uri": "https://localhost:8080/",
          "height": 265
        },
        "outputId": "51348ad8-db44-40ad-cf5e-27a6bee0af74"
      },
      "execution_count": 23,
      "outputs": [
        {
          "output_type": "display_data",
          "data": {
            "image/png": "[encoded data removed]",
            "text/plain": [
              "<Figure size 432x288 with 1 Axes>"
            ]
          },
          "metadata": {
            "needs_background": "light"
          }
        }
      ]
    },
    {
      "cell_type": "markdown",
      "source": [
        "The accuracy on the attack success rate: "
      ],
      "metadata": {
        "id": "YJwrmP0q6Upl"
      }
    },
    {
      "cell_type": "code",
      "source": [
        "plt.plot(pruned_channel, attack_sucess_rates)\n",
        "plt.show()"
      ],
      "metadata": {
        "id": "7xLCCMyd6bf8",
        "colab": {
          "base_uri": "https://localhost:8080/",
          "height": 265
        },
        "outputId": "fba7f276-c66c-4f68-e609-17eeda421b41"
      },
      "execution_count": 24,
      "outputs": [
        {
          "output_type": "display_data",
          "data": {
            "image/png": "[encoded data removed]",
            "text/plain": [
              "<Figure size 432x288 with 1 Axes>"
            ]
          },
          "metadata": {
            "needs_background": "light"
          }
        }
      ]
    },
    {
      "cell_type": "code",
      "source": [
        ""
      ],
      "metadata": {
        "id": "-TFLTGGg_gqG"
      },
      "execution_count": null,
      "outputs": []
    }
  ]
}